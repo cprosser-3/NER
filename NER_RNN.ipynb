{
  "cells": [
    {
      "attachments": {},
      "cell_type": "markdown",
      "metadata": {},
      "source": [
        "## Named Entity Recognition (NER) is the process of determining which words in a set of text belong to a set of categories of special interest such as dates, organizations, people, etc.\n",
        "\n",
        "## There are 9 broad categories\n",
        "+ geo: geographical location\n",
        "+ org: organization\n",
        "+ per: person\n",
        "+ gpe: geopolitical entity\n",
        "+ tim: time indicator\n",
        "+ art: artifact\n",
        "+ eve: event\n",
        "+ nat: natural phenomenon\n",
        "+ o: other, not of interest (most words)\n",
        "\n",
        "## Because entities can encompass multiple words we also need to denote the position of each. This is done by breaking each category (other than ```o```) into a sub-category using the prefix of either ```b``` (beginning) or ```i``` (inside). For instance the name Jan Egeland would have the tags b-per and i-per respectively."
      ]
    },
    {
      "cell_type": "code",
      "execution_count": 1,
      "metadata": {
        "id": "LHd-M5OH-H7u"
      },
      "outputs": [],
      "source": [
        "import functools as F\n",
        "import matplotlib.pyplot as plt\n",
        "import numpy as np\n",
        "import pandas as pd\n",
        "import tensorflow as tf\n",
        "\n",
        "from sklearn.model_selection import train_test_split\n",
        "from typing import *"
      ]
    },
    {
      "cell_type": "code",
      "execution_count": 2,
      "metadata": {
        "id": "aboOqyMQDNd1"
      },
      "outputs": [],
      "source": [
        "class Tokenizer:\n",
        "    __slots__ = [\n",
        "          'vocab_w'\n",
        "        , 'vocab_i'\n",
        "        , 'padder_w'\n",
        "        , 'padder_i'\n",
        "        , 'oov_w'\n",
        "        , 'oov_i'\n",
        "    ]\n",
        "\n",
        "    def __init__(self, words: pd.Series):\n",
        "        padder = '__PADDER__'\n",
        "        oov = '__OOV__'\n",
        "        w = pd.concat([words, pd.Series([padder, oov])])\n",
        "\n",
        "        self.vocab_w = {x: i for i, x in enumerate(set(w))}\n",
        "        self.vocab_i = {i: x for i, x in enumerate(set(w))}\n",
        "\n",
        "        self.padder_w = padder\n",
        "        self.padder_i = self.vocab_w[padder]\n",
        "\n",
        "        self.oov_w = oov\n",
        "        self.oov_i = self.vocab_w[oov]"
      ]
    },
    {
      "cell_type": "code",
      "execution_count": 3,
      "metadata": {
        "id": "lFimruVZ-cRU"
      },
      "outputs": [],
      "source": [
        "def build_data(df: pd.DataFrame, x_tokens: Tokenizer, y_tokens: Tokenizer, pad_length: int) -> Tuple[np.array, np.array]:\n",
        "    '''\n",
        "    Formats sentence arrays into TF friendly numpy arrays.\n",
        "    x: 2D array with each word replaced by its respective token.\n",
        "    y: 3D array with each tag  replaced with a one-hot-encoded array.\n",
        "    '''\n",
        "    x = np.zeros((df.shape[0], pad_length))\n",
        "    y = np.zeros((df.shape[0], pad_length, len(y_tokens.vocab_w)), dtype = 'byte')\n",
        "\n",
        "    for i1, row in df.reset_index().iterrows():\n",
        "        for i2 in range(pad_length):\n",
        "            if i2 < row.WordCount:\n",
        "                if x_tokens.vocab_w.get(row.Word[i2]):\n",
        "                    x[i1, i2] = x_tokens.vocab_w[row.Word[i2]]\n",
        "                    y[i1, i2, y_tokens.vocab_w[row.Tag[i2]]] = 1\n",
        "                else:\n",
        "                    x[i1, i2] = x_tokens.oov_i\n",
        "                    y[i1, i2, y_tokens.oov_i] = 1\n",
        "            else:\n",
        "                x[i1, i2] = x_tokens.padder_i\n",
        "                y[i1, i2, y_tokens.padder_i] = 1\n",
        "    return x, y\n",
        "\n",
        "\n",
        "def build_results(tokens: List[str], y_true: np.array, y_pred: np.array) -> List[List[object]]:\n",
        "    '''Format the results of a model's y-hat response in comparison to the true y value for a pandas DataFrame.'''\n",
        "    for tag in tokens:\n",
        "        i_true = np.where(y_true == tag)[0]\n",
        "        i_pred = y_pred[i_true]\n",
        "\n",
        "        n_true = i_true.size\n",
        "        n_pred = np.where(i_pred == tag)[0].size\n",
        "\n",
        "        yield [tag, n_true, n_pred,  n_pred / n_true]\n",
        "\n",
        "\n",
        "def plot_fit(fit) -> None:\n",
        "    '''Plot the history of a TF model fit.'''\n",
        "    pd.DataFrame(fit.history).plot(figsize = (8, 5))\n",
        "    plt.grid(True)\n",
        "    plt.gca().set_ylim(0, 1)\n",
        "    plt.show()"
      ]
    },
    {
      "attachments": {},
      "cell_type": "markdown",
      "metadata": {},
      "source": [
        "### Import the data and do some minor preprocessing to group words and tags by their respective sentence.\n",
        "### Get the word count of each sentence to help later define the padding length needed to format the data for TensorFlow."
      ]
    },
    {
      "cell_type": "code",
      "execution_count": 4,
      "metadata": {
        "colab": {
          "base_uri": "https://localhost:8080/",
          "height": 641
        },
        "id": "spw5970w-MRF",
        "outputId": "d556282d-b3d2-47d5-e1c4-2d7faa499803"
      },
      "outputs": [
        {
          "data": {
            "text/html": [
              "\n",
              "  <div id=\"df-a6937bc5-7976-4e61-b272-f7692da0f6e8\">\n",
              "    <div class=\"colab-df-container\">\n",
              "      <div>\n",
              "<style scoped>\n",
              "    .dataframe tbody tr th:only-of-type {\n",
              "        vertical-align: middle;\n",
              "    }\n",
              "\n",
              "    .dataframe tbody tr th {\n",
              "        vertical-align: top;\n",
              "    }\n",
              "\n",
              "    .dataframe thead th {\n",
              "        text-align: right;\n",
              "    }\n",
              "</style>\n",
              "<table border=\"1\" class=\"dataframe\">\n",
              "  <thead>\n",
              "    <tr style=\"text-align: right;\">\n",
              "      <th></th>\n",
              "      <th>Sentence</th>\n",
              "      <th>Word</th>\n",
              "      <th>POS</th>\n",
              "      <th>Tag</th>\n",
              "      <th>WordCount</th>\n",
              "    </tr>\n",
              "  </thead>\n",
              "  <tbody>\n",
              "    <tr>\n",
              "      <th>0</th>\n",
              "      <td>Sentence: 1</td>\n",
              "      <td>[thousands, of, demonstrators, have, marched, ...</td>\n",
              "      <td>[NNS, IN, NNS, VBP, VBN, IN, NNP, TO, VB, DT, ...</td>\n",
              "      <td>[o, o, o, o, o, o, b-geo, o, o, o, o, o, b-geo...</td>\n",
              "      <td>24</td>\n",
              "    </tr>\n",
              "    <tr>\n",
              "      <th>1</th>\n",
              "      <td>Sentence: 10</td>\n",
              "      <td>[iranian, officials, say, they, expect, to, ge...</td>\n",
              "      <td>[JJ, NNS, VBP, PRP, VBP, TO, VB, NN, TO, JJ, J...</td>\n",
              "      <td>[b-gpe, o, o, o, o, o, o, o, o, o, o, o, o, o,...</td>\n",
              "      <td>25</td>\n",
              "    </tr>\n",
              "    <tr>\n",
              "      <th>2</th>\n",
              "      <td>Sentence: 100</td>\n",
              "      <td>[helicopter, gunships, saturday, pounded, mili...</td>\n",
              "      <td>[NN, NNS, NNP, VBD, JJ, NNS, IN, DT, NNP, JJ, ...</td>\n",
              "      <td>[o, o, b-tim, o, o, o, o, o, b-geo, o, o, o, o...</td>\n",
              "      <td>32</td>\n",
              "    </tr>\n",
              "    <tr>\n",
              "      <th>3</th>\n",
              "      <td>Sentence: 1000</td>\n",
              "      <td>[they, left, after, a, tense, hour-long, stand...</td>\n",
              "      <td>[PRP, VBD, IN, DT, NN, JJ, NN, IN, NN, NNS, .]</td>\n",
              "      <td>[o, o, o, o, o, o, o, o, o, o, o]</td>\n",
              "      <td>11</td>\n",
              "    </tr>\n",
              "    <tr>\n",
              "      <th>4</th>\n",
              "      <td>Sentence: 10000</td>\n",
              "      <td>[u.n., relief, coordinator, jan, egeland, said...</td>\n",
              "      <td>[NNP, NN, NN, NNP, NNP, VBD, NNP, ,, NNP, ,, J...</td>\n",
              "      <td>[b-geo, o, o, b-per, i-per, o, b-tim, o, b-geo...</td>\n",
              "      <td>35</td>\n",
              "    </tr>\n",
              "    <tr>\n",
              "      <th>...</th>\n",
              "      <td>...</td>\n",
              "      <td>...</td>\n",
              "      <td>...</td>\n",
              "      <td>...</td>\n",
              "      <td>...</td>\n",
              "    </tr>\n",
              "    <tr>\n",
              "      <th>47954</th>\n",
              "      <td>Sentence: 9995</td>\n",
              "      <td>[opposition, leader, mir, hossein, mousavi, ha...</td>\n",
              "      <td>[NNP, NN, NNP, NNP, NNP, VBZ, VBN, PRP, VBZ, T...</td>\n",
              "      <td>[o, o, o, b-per, i-per, o, o, o, o, o, o, o, o...</td>\n",
              "      <td>32</td>\n",
              "    </tr>\n",
              "    <tr>\n",
              "      <th>47955</th>\n",
              "      <td>Sentence: 9996</td>\n",
              "      <td>[on, thursday, ,, iranian, state, media, publi...</td>\n",
              "      <td>[IN, NNP, ,, JJ, NN, NNS, VBN, DT, NN, IN, DT,...</td>\n",
              "      <td>[o, b-tim, o, b-gpe, o, o, o, o, o, o, o, o, b...</td>\n",
              "      <td>25</td>\n",
              "    </tr>\n",
              "    <tr>\n",
              "      <th>47956</th>\n",
              "      <td>Sentence: 9997</td>\n",
              "      <td>[following, iran, 's, disputed, june, 12, elec...</td>\n",
              "      <td>[VBG, NNP, POS, JJ, NNP, CD, NNS, ,, NNS, NNS,...</td>\n",
              "      <td>[o, b-geo, o, o, b-tim, i-tim, o, o, o, o, o, ...</td>\n",
              "      <td>27</td>\n",
              "    </tr>\n",
              "    <tr>\n",
              "      <th>47957</th>\n",
              "      <td>Sentence: 9998</td>\n",
              "      <td>[since, then, ,, authorities, have, held, publ...</td>\n",
              "      <td>[IN, RB, ,, NNS, VBP, VBN, JJ, NNS, IN, DT, VB...</td>\n",
              "      <td>[o, o, o, o, o, o, o, o, o, o, o, o, o, o, o, ...</td>\n",
              "      <td>21</td>\n",
              "    </tr>\n",
              "    <tr>\n",
              "      <th>47958</th>\n",
              "      <td>Sentence: 9999</td>\n",
              "      <td>[the, united, nations, is, praising, the, use,...</td>\n",
              "      <td>[DT, NNP, NNP, VBZ, VBG, DT, NN, IN, JJ, NNS, ...</td>\n",
              "      <td>[o, b-org, i-org, o, o, o, o, o, o, o, o, o, o...</td>\n",
              "      <td>32</td>\n",
              "    </tr>\n",
              "  </tbody>\n",
              "</table>\n",
              "<p>47959 rows × 5 columns</p>\n",
              "</div>\n",
              "      <button class=\"colab-df-convert\" onclick=\"convertToInteractive('df-a6937bc5-7976-4e61-b272-f7692da0f6e8')\"\n",
              "              title=\"Convert this dataframe to an interactive table.\"\n",
              "              style=\"display:none;\">\n",
              "        \n",
              "  <svg xmlns=\"http://www.w3.org/2000/svg\" height=\"24px\"viewBox=\"0 0 24 24\"\n",
              "       width=\"24px\">\n",
              "    <path d=\"M0 0h24v24H0V0z\" fill=\"none\"/>\n",
              "    <path d=\"M18.56 5.44l.94 2.06.94-2.06 2.06-.94-2.06-.94-.94-2.06-.94 2.06-2.06.94zm-11 1L8.5 8.5l.94-2.06 2.06-.94-2.06-.94L8.5 2.5l-.94 2.06-2.06.94zm10 10l.94 2.06.94-2.06 2.06-.94-2.06-.94-.94-2.06-.94 2.06-2.06.94z\"/><path d=\"M17.41 7.96l-1.37-1.37c-.4-.4-.92-.59-1.43-.59-.52 0-1.04.2-1.43.59L10.3 9.45l-7.72 7.72c-.78.78-.78 2.05 0 2.83L4 21.41c.39.39.9.59 1.41.59.51 0 1.02-.2 1.41-.59l7.78-7.78 2.81-2.81c.8-.78.8-2.07 0-2.86zM5.41 20L4 18.59l7.72-7.72 1.47 1.35L5.41 20z\"/>\n",
              "  </svg>\n",
              "      </button>\n",
              "      \n",
              "  <style>\n",
              "    .colab-df-container {\n",
              "      display:flex;\n",
              "      flex-wrap:wrap;\n",
              "      gap: 12px;\n",
              "    }\n",
              "\n",
              "    .colab-df-convert {\n",
              "      background-color: #E8F0FE;\n",
              "      border: none;\n",
              "      border-radius: 50%;\n",
              "      cursor: pointer;\n",
              "      display: none;\n",
              "      fill: #1967D2;\n",
              "      height: 32px;\n",
              "      padding: 0 0 0 0;\n",
              "      width: 32px;\n",
              "    }\n",
              "\n",
              "    .colab-df-convert:hover {\n",
              "      background-color: #E2EBFA;\n",
              "      box-shadow: 0px 1px 2px rgba(60, 64, 67, 0.3), 0px 1px 3px 1px rgba(60, 64, 67, 0.15);\n",
              "      fill: #174EA6;\n",
              "    }\n",
              "\n",
              "    [theme=dark] .colab-df-convert {\n",
              "      background-color: #3B4455;\n",
              "      fill: #D2E3FC;\n",
              "    }\n",
              "\n",
              "    [theme=dark] .colab-df-convert:hover {\n",
              "      background-color: #434B5C;\n",
              "      box-shadow: 0px 1px 3px 1px rgba(0, 0, 0, 0.15);\n",
              "      filter: drop-shadow(0px 1px 2px rgba(0, 0, 0, 0.3));\n",
              "      fill: #FFFFFF;\n",
              "    }\n",
              "  </style>\n",
              "\n",
              "      <script>\n",
              "        const buttonEl =\n",
              "          document.querySelector('#df-a6937bc5-7976-4e61-b272-f7692da0f6e8 button.colab-df-convert');\n",
              "        buttonEl.style.display =\n",
              "          google.colab.kernel.accessAllowed ? 'block' : 'none';\n",
              "\n",
              "        async function convertToInteractive(key) {\n",
              "          const element = document.querySelector('#df-a6937bc5-7976-4e61-b272-f7692da0f6e8');\n",
              "          const dataTable =\n",
              "            await google.colab.kernel.invokeFunction('convertToInteractive',\n",
              "                                                     [key], {});\n",
              "          if (!dataTable) return;\n",
              "\n",
              "          const docLinkHtml = 'Like what you see? Visit the ' +\n",
              "            '<a target=\"_blank\" href=https://colab.research.google.com/notebooks/data_table.ipynb>data table notebook</a>'\n",
              "            + ' to learn more about interactive tables.';\n",
              "          element.innerHTML = '';\n",
              "          dataTable['output_type'] = 'display_data';\n",
              "          await google.colab.output.renderOutput(dataTable, element);\n",
              "          const docLink = document.createElement('div');\n",
              "          docLink.innerHTML = docLinkHtml;\n",
              "          element.appendChild(docLink);\n",
              "        }\n",
              "      </script>\n",
              "    </div>\n",
              "  </div>\n",
              "  "
            ],
            "text/plain": [
              "              Sentence                                               Word  \\\n",
              "0          Sentence: 1  [thousands, of, demonstrators, have, marched, ...   \n",
              "1         Sentence: 10  [iranian, officials, say, they, expect, to, ge...   \n",
              "2        Sentence: 100  [helicopter, gunships, saturday, pounded, mili...   \n",
              "3       Sentence: 1000  [they, left, after, a, tense, hour-long, stand...   \n",
              "4      Sentence: 10000  [u.n., relief, coordinator, jan, egeland, said...   \n",
              "...                ...                                                ...   \n",
              "47954   Sentence: 9995  [opposition, leader, mir, hossein, mousavi, ha...   \n",
              "47955   Sentence: 9996  [on, thursday, ,, iranian, state, media, publi...   \n",
              "47956   Sentence: 9997  [following, iran, 's, disputed, june, 12, elec...   \n",
              "47957   Sentence: 9998  [since, then, ,, authorities, have, held, publ...   \n",
              "47958   Sentence: 9999  [the, united, nations, is, praising, the, use,...   \n",
              "\n",
              "                                                     POS  \\\n",
              "0      [NNS, IN, NNS, VBP, VBN, IN, NNP, TO, VB, DT, ...   \n",
              "1      [JJ, NNS, VBP, PRP, VBP, TO, VB, NN, TO, JJ, J...   \n",
              "2      [NN, NNS, NNP, VBD, JJ, NNS, IN, DT, NNP, JJ, ...   \n",
              "3         [PRP, VBD, IN, DT, NN, JJ, NN, IN, NN, NNS, .]   \n",
              "4      [NNP, NN, NN, NNP, NNP, VBD, NNP, ,, NNP, ,, J...   \n",
              "...                                                  ...   \n",
              "47954  [NNP, NN, NNP, NNP, NNP, VBZ, VBN, PRP, VBZ, T...   \n",
              "47955  [IN, NNP, ,, JJ, NN, NNS, VBN, DT, NN, IN, DT,...   \n",
              "47956  [VBG, NNP, POS, JJ, NNP, CD, NNS, ,, NNS, NNS,...   \n",
              "47957  [IN, RB, ,, NNS, VBP, VBN, JJ, NNS, IN, DT, VB...   \n",
              "47958  [DT, NNP, NNP, VBZ, VBG, DT, NN, IN, JJ, NNS, ...   \n",
              "\n",
              "                                                     Tag  WordCount  \n",
              "0      [o, o, o, o, o, o, b-geo, o, o, o, o, o, b-geo...         24  \n",
              "1      [b-gpe, o, o, o, o, o, o, o, o, o, o, o, o, o,...         25  \n",
              "2      [o, o, b-tim, o, o, o, o, o, b-geo, o, o, o, o...         32  \n",
              "3                      [o, o, o, o, o, o, o, o, o, o, o]         11  \n",
              "4      [b-geo, o, o, b-per, i-per, o, b-tim, o, b-geo...         35  \n",
              "...                                                  ...        ...  \n",
              "47954  [o, o, o, b-per, i-per, o, o, o, o, o, o, o, o...         32  \n",
              "47955  [o, b-tim, o, b-gpe, o, o, o, o, o, o, o, o, b...         25  \n",
              "47956  [o, b-geo, o, o, b-tim, i-tim, o, o, o, o, o, ...         27  \n",
              "47957  [o, o, o, o, o, o, o, o, o, o, o, o, o, o, o, ...         21  \n",
              "47958  [o, b-org, i-org, o, o, o, o, o, o, o, o, o, o...         32  \n",
              "\n",
              "[47959 rows x 5 columns]"
            ]
          },
          "execution_count": 4,
          "metadata": {},
          "output_type": "execute_result"
        }
      ],
      "source": [
        "df = pd.read_csv(\n",
        "      'https://raw.githubusercontent.com/amankharwal/Website-data/master/ner_dataset.csv'\n",
        "    , encoding= 'unicode_escape'\n",
        ").rename(\n",
        "      {'Sentence #': 'Sentence'}\n",
        "    , axis = 'columns'\n",
        ").assign(\n",
        "      Sentence = lambda df: df.Sentence.fillna(method = 'ffill')\n",
        "    , Word = lambda df: df.Word.map(str.lower)\n",
        "    , Tag = lambda df: df.Tag.map(str.lower)\n",
        ").groupby(\n",
        "      'Sentence'\n",
        "    , as_index = False\n",
        ").agg(\n",
        "      list\n",
        ").assign(\n",
        "      WordCount = lambda df: df.Word.map(len)\n",
        ")\n",
        "\n",
        "df"
      ]
    },
    {
      "attachments": {},
      "cell_type": "markdown",
      "metadata": {},
      "source": [
        "### Train test split for out test data before tokenization so we don't include test data into our Vocabulary and will need to account for Out of Vocaulary terms."
      ]
    },
    {
      "cell_type": "code",
      "execution_count": 5,
      "metadata": {
        "colab": {
          "base_uri": "https://localhost:8080/"
        },
        "id": "v0fC0LH2AyuC",
        "outputId": "ccf6804c-7d76-463d-d226-cb7cf7c047c9"
      },
      "outputs": [
        {
          "data": {
            "text/plain": [
              "((43163, 5), (4796, 5))"
            ]
          },
          "execution_count": 5,
          "metadata": {},
          "output_type": "execute_result"
        }
      ],
      "source": [
        "df_train, df_test = train_test_split(df, test_size = 0.1, random_state = 11)\n",
        "df_train.shape, df_test.shape"
      ]
    },
    {
      "attachments": {},
      "cell_type": "markdown",
      "metadata": {},
      "source": [
        "### Tokenization for words and tags"
      ]
    },
    {
      "cell_type": "code",
      "execution_count": 6,
      "metadata": {
        "colab": {
          "base_uri": "https://localhost:8080/"
        },
        "id": "g9WzMGfp-sqZ",
        "outputId": "87c0df3d-cf6e-4719-87fc-75c3a60e5e8a"
      },
      "outputs": [
        {
          "data": {
            "text/plain": [
              "30486"
            ]
          },
          "execution_count": 6,
          "metadata": {},
          "output_type": "execute_result"
        }
      ],
      "source": [
        "x_tokens = Tokenizer(df_train.Word.explode())\n",
        "len(x_tokens.vocab_w)"
      ]
    },
    {
      "cell_type": "code",
      "execution_count": 7,
      "metadata": {
        "colab": {
          "base_uri": "https://localhost:8080/"
        },
        "id": "whgWJLjGADLx",
        "outputId": "1d85a50b-ba0e-4208-ac27-be26acf4271d"
      },
      "outputs": [
        {
          "data": {
            "text/plain": [
              "19"
            ]
          },
          "execution_count": 7,
          "metadata": {},
          "output_type": "execute_result"
        }
      ],
      "source": [
        "y_tokens = Tokenizer(df_train.Tag.explode())\n",
        "len(y_tokens.vocab_w)"
      ]
    },
    {
      "attachments": {},
      "cell_type": "markdown",
      "metadata": {},
      "source": [
        "### Evaluate sentence length to include as much of the data as possible in our padding cutoff without making the majority of terms padding."
      ]
    },
    {
      "cell_type": "code",
      "execution_count": 8,
      "metadata": {
        "colab": {
          "base_uri": "https://localhost:8080/",
          "height": 265
        },
        "id": "vP7zMVKMO3lo",
        "outputId": "fe856683-a919-4b1a-ed0b-1b4d822ccaec"
      },
      "outputs": [
        {
          "data": {
            "image/png": "[encoded data removed]",
            "text/plain": [
              "<Figure size 432x288 with 1 Axes>"
            ]
          },
          "metadata": {
            "needs_background": "light"
          },
          "output_type": "display_data"
        }
      ],
      "source": [
        "df_train.WordCount.hist(bins = 50)\n",
        "plt.show()"
      ]
    },
    {
      "cell_type": "code",
      "execution_count": 9,
      "metadata": {
        "id": "eSqBOT0uP8RB"
      },
      "outputs": [],
      "source": [
        "max_length = 35"
      ]
    },
    {
      "cell_type": "code",
      "execution_count": 10,
      "metadata": {
        "colab": {
          "base_uri": "https://localhost:8080/"
        },
        "id": "fJjCnVJpPVtn",
        "outputId": "e3c63f94-1e73-4e7f-8a90-49460fc2be82"
      },
      "outputs": [
        {
          "data": {
            "text/plain": [
              "0.951104068058133"
            ]
          },
          "execution_count": 10,
          "metadata": {},
          "output_type": "execute_result"
        }
      ],
      "source": [
        "w = df.WordCount\n",
        "w[w <= max_length].count() / w.count()"
      ]
    },
    {
      "attachments": {},
      "cell_type": "markdown",
      "metadata": {},
      "source": [
        "### Build TF friendly token arrays with padding."
      ]
    },
    {
      "cell_type": "code",
      "execution_count": 11,
      "metadata": {
        "colab": {
          "base_uri": "https://localhost:8080/"
        },
        "id": "Bj8zJqRHFtbc",
        "outputId": "08339a23-00e9-487a-bee2-2a0b77965e03"
      },
      "outputs": [
        {
          "data": {
            "text/plain": [
              "((43163, 35), (43163, 35, 19))"
            ]
          },
          "execution_count": 11,
          "metadata": {},
          "output_type": "execute_result"
        }
      ],
      "source": [
        "build = F.partial(build_data, **{\n",
        "      'x_tokens': x_tokens\n",
        "    , 'y_tokens': y_tokens\n",
        "    , 'pad_length': max_length\n",
        "})\n",
        "x_train, y_train = build(df_train)\n",
        "x_test, y_test = build(df_test)\n",
        "\n",
        "x_train.shape, y_train.shape"
      ]
    },
    {
      "cell_type": "code",
      "execution_count": 12,
      "metadata": {
        "colab": {
          "base_uri": "https://localhost:8080/"
        },
        "id": "yX3Lrv0TTbQX",
        "outputId": "52dee268-0b48-496d-d701-ef44c2c4f858"
      },
      "outputs": [
        {
          "data": {
            "text/plain": [
              "(array([ 8167.,  5060., 12765., 12966., 28316., 17437., 20625.,  3152.,\n",
              "        12927., 17580., 19425., 18605.,  8212.,  8120., 11938., 27252.,\n",
              "        27252., 27252., 27252., 27252., 27252., 27252., 27252., 27252.,\n",
              "        27252., 27252., 27252., 27252., 27252., 27252., 27252., 27252.,\n",
              "        27252., 27252., 27252.]),\n",
              " array([[0, 0, 0, 0, 0, 0, 0, 0, 0, 0, 0, 0, 1, 0, 0, 0, 0, 0, 0],\n",
              "        [0, 0, 0, 0, 0, 0, 0, 0, 0, 1, 0, 0, 0, 0, 0, 0, 0, 0, 0],\n",
              "        [0, 0, 0, 0, 0, 0, 0, 0, 0, 0, 0, 0, 1, 0, 0, 0, 0, 0, 0],\n",
              "        [0, 0, 0, 0, 0, 0, 0, 0, 1, 0, 0, 0, 0, 0, 0, 0, 0, 0, 0],\n",
              "        [0, 0, 0, 0, 0, 0, 0, 0, 0, 0, 0, 0, 1, 0, 0, 0, 0, 0, 0],\n",
              "        [0, 0, 0, 0, 0, 0, 0, 0, 0, 0, 0, 0, 1, 0, 0, 0, 0, 0, 0],\n",
              "        [0, 0, 0, 0, 0, 0, 0, 0, 0, 0, 0, 0, 1, 0, 0, 0, 0, 0, 0],\n",
              "        [0, 0, 0, 0, 0, 0, 0, 0, 0, 0, 0, 0, 1, 0, 0, 0, 0, 0, 0],\n",
              "        [0, 0, 0, 0, 0, 0, 0, 0, 0, 0, 0, 0, 1, 0, 0, 0, 0, 0, 0],\n",
              "        [0, 0, 0, 0, 0, 0, 0, 0, 0, 0, 0, 0, 1, 0, 0, 0, 0, 0, 0],\n",
              "        [0, 0, 0, 0, 0, 0, 0, 0, 0, 0, 0, 0, 1, 0, 0, 0, 0, 0, 0],\n",
              "        [0, 0, 0, 0, 0, 0, 0, 0, 0, 0, 0, 0, 1, 0, 0, 0, 0, 0, 0],\n",
              "        [1, 0, 0, 0, 0, 0, 0, 0, 0, 0, 0, 0, 0, 0, 0, 0, 0, 0, 0],\n",
              "        [0, 0, 0, 0, 0, 1, 0, 0, 0, 0, 0, 0, 0, 0, 0, 0, 0, 0, 0],\n",
              "        [0, 0, 0, 0, 0, 0, 0, 0, 0, 0, 0, 0, 1, 0, 0, 0, 0, 0, 0],\n",
              "        [0, 0, 0, 0, 0, 0, 1, 0, 0, 0, 0, 0, 0, 0, 0, 0, 0, 0, 0],\n",
              "        [0, 0, 0, 0, 0, 0, 1, 0, 0, 0, 0, 0, 0, 0, 0, 0, 0, 0, 0],\n",
              "        [0, 0, 0, 0, 0, 0, 1, 0, 0, 0, 0, 0, 0, 0, 0, 0, 0, 0, 0],\n",
              "        [0, 0, 0, 0, 0, 0, 1, 0, 0, 0, 0, 0, 0, 0, 0, 0, 0, 0, 0],\n",
              "        [0, 0, 0, 0, 0, 0, 1, 0, 0, 0, 0, 0, 0, 0, 0, 0, 0, 0, 0],\n",
              "        [0, 0, 0, 0, 0, 0, 1, 0, 0, 0, 0, 0, 0, 0, 0, 0, 0, 0, 0],\n",
              "        [0, 0, 0, 0, 0, 0, 1, 0, 0, 0, 0, 0, 0, 0, 0, 0, 0, 0, 0],\n",
              "        [0, 0, 0, 0, 0, 0, 1, 0, 0, 0, 0, 0, 0, 0, 0, 0, 0, 0, 0],\n",
              "        [0, 0, 0, 0, 0, 0, 1, 0, 0, 0, 0, 0, 0, 0, 0, 0, 0, 0, 0],\n",
              "        [0, 0, 0, 0, 0, 0, 1, 0, 0, 0, 0, 0, 0, 0, 0, 0, 0, 0, 0],\n",
              "        [0, 0, 0, 0, 0, 0, 1, 0, 0, 0, 0, 0, 0, 0, 0, 0, 0, 0, 0],\n",
              "        [0, 0, 0, 0, 0, 0, 1, 0, 0, 0, 0, 0, 0, 0, 0, 0, 0, 0, 0],\n",
              "        [0, 0, 0, 0, 0, 0, 1, 0, 0, 0, 0, 0, 0, 0, 0, 0, 0, 0, 0],\n",
              "        [0, 0, 0, 0, 0, 0, 1, 0, 0, 0, 0, 0, 0, 0, 0, 0, 0, 0, 0],\n",
              "        [0, 0, 0, 0, 0, 0, 1, 0, 0, 0, 0, 0, 0, 0, 0, 0, 0, 0, 0],\n",
              "        [0, 0, 0, 0, 0, 0, 1, 0, 0, 0, 0, 0, 0, 0, 0, 0, 0, 0, 0],\n",
              "        [0, 0, 0, 0, 0, 0, 1, 0, 0, 0, 0, 0, 0, 0, 0, 0, 0, 0, 0],\n",
              "        [0, 0, 0, 0, 0, 0, 1, 0, 0, 0, 0, 0, 0, 0, 0, 0, 0, 0, 0],\n",
              "        [0, 0, 0, 0, 0, 0, 1, 0, 0, 0, 0, 0, 0, 0, 0, 0, 0, 0, 0],\n",
              "        [0, 0, 0, 0, 0, 0, 1, 0, 0, 0, 0, 0, 0, 0, 0, 0, 0, 0, 0]],\n",
              "       dtype=int8))"
            ]
          },
          "execution_count": 12,
          "metadata": {},
          "output_type": "execute_result"
        }
      ],
      "source": [
        "x_train[0], y_train[0]"
      ]
    },
    {
      "attachments": {},
      "cell_type": "markdown",
      "metadata": {},
      "source": [
        "### Train test split for training and validaiton sets."
      ]
    },
    {
      "cell_type": "code",
      "execution_count": 13,
      "metadata": {
        "colab": {
          "base_uri": "https://localhost:8080/"
        },
        "id": "zFIuChdEQsDC",
        "outputId": "b6ae0e7c-f2fb-47f7-98c7-01720da52428"
      },
      "outputs": [
        {
          "data": {
            "text/plain": [
              "((32372, 35), (10791, 35), (32372, 35, 19), (10791, 35, 19))"
            ]
          },
          "execution_count": 13,
          "metadata": {},
          "output_type": "execute_result"
        }
      ],
      "source": [
        "x_train, x_valid, y_train, y_valid = train_test_split(\n",
        "      x_train\n",
        "    , y_train\n",
        "    , test_size = 0.25\n",
        "    , random_state = 11\n",
        ")\n",
        "x_train.shape, x_valid.shape, y_train.shape, y_valid.shape"
      ]
    },
    {
      "cell_type": "code",
      "execution_count": 14,
      "metadata": {
        "id": "DUKxew0b6Wtl"
      },
      "outputs": [],
      "source": [
        "np.random.seed(11)\n",
        "tf.random.set_seed(11)"
      ]
    },
    {
      "cell_type": "code",
      "execution_count": 15,
      "metadata": {
        "id": "8Bx13hzo7IHM"
      },
      "outputs": [],
      "source": [
        "dim_output = 64"
      ]
    },
    {
      "attachments": {},
      "cell_type": "markdown",
      "metadata": {},
      "source": [
        "### Build RNN."
      ]
    },
    {
      "cell_type": "code",
      "execution_count": 56,
      "metadata": {
        "colab": {
          "base_uri": "https://localhost:8080/"
        },
        "id": "3gGhxsVk9RY8",
        "outputId": "5299f6af-414c-4b4e-a214-916ed503a1c4"
      },
      "outputs": [
        {
          "name": "stdout",
          "output_type": "stream",
          "text": [
            "Model: \"sequential_1\"\n",
            "_________________________________________________________________\n",
            " Layer (type)                Output Shape              Param #   \n",
            "=================================================================\n",
            " embedding_1 (Embedding)     (None, 35, 64)            1951104   \n",
            "                                                                 \n",
            " bidirectional_1 (Bidirectio  (None, 35, 128)          66048     \n",
            " nal)                                                            \n",
            "                                                                 \n",
            " lstm_3 (LSTM)               (None, 35, 64)            49408     \n",
            "                                                                 \n",
            " time_distributed_1 (TimeDis  (None, 35, 19)           1235      \n",
            " tributed)                                                       \n",
            "                                                                 \n",
            "=================================================================\n",
            "Total params: 2,067,795\n",
            "Trainable params: 2,067,795\n",
            "Non-trainable params: 0\n",
            "_________________________________________________________________\n"
          ]
        }
      ],
      "source": [
        "model = tf.keras.Sequential([\n",
        "    # Embedding\n",
        "      tf.keras.layers.Embedding(\n",
        "          input_dim = len(x_tokens.vocab_w)\n",
        "        , output_dim = dim_output\n",
        "        , input_length = max_length\n",
        "    )\n",
        "    \n",
        "    # Bidrectional LSTM Layer 1\n",
        "    , tf.keras.layers.Bidirectional(merge_mode = 'concat', layer = tf.keras.layers.LSTM(\n",
        "          units = dim_output\n",
        "        , return_sequences = True\n",
        "        , dropout = 0.2\n",
        "        , recurrent_dropout = 0.2\n",
        "    ))\n",
        "\n",
        "    # LSTM Layer 2\n",
        "    , tf.keras.layers.LSTM(\n",
        "          units = dim_output\n",
        "        , return_sequences = True\n",
        "        , dropout = 0.5\n",
        "        , recurrent_dropout = 0.5\n",
        "    )\n",
        "\n",
        "    # Time Distributed Dense Output\n",
        "    , tf.keras.layers.TimeDistributed(tf.keras.layers.Dense(\n",
        "          units = len(y_tokens.vocab_w)\n",
        "        , activation = 'softmax'\n",
        "    ))\n",
        "])\n",
        "\n",
        "model.compile(\n",
        "      loss = 'categorical_crossentropy'\n",
        "    , optimizer = tf.keras.optimizers.Adam(learning_rate = 0.01)\n",
        "    , metrics = ['accuracy']\n",
        ")\n",
        "\n",
        "model.summary()"
      ]
    },
    {
      "attachments": {},
      "cell_type": "markdown",
      "metadata": {},
      "source": [
        "### Model checkpoints."
      ]
    },
    {
      "cell_type": "code",
      "execution_count": 57,
      "metadata": {
        "id": "qOfr6wlCJXzi"
      },
      "outputs": [],
      "source": [
        "path_best = 'weights_NER.hdf5'\n",
        "\n",
        "callbacks = [\n",
        "      tf.keras.callbacks.ModelCheckpoint(\n",
        "          path_best\n",
        "        , monitor = 'val_accuracy'\n",
        "        , save_best_only = True\n",
        "        , mode = 'max'\n",
        "    )\n",
        "    , tf.keras.callbacks.EarlyStopping(\n",
        "          monitor = 'val_accuracy'\n",
        "        , patience = 3\n",
        "    )\n",
        "    , tf.keras.callbacks.ReduceLROnPlateau(\n",
        "          monitor = 'val_accuracy'\n",
        "        , factor = 0.7\n",
        "        , patience = 2\n",
        "        , min_lr = 0.001\n",
        "    )\n",
        "]"
      ]
    },
    {
      "attachments": {},
      "cell_type": "markdown",
      "metadata": {},
      "source": [
        "### Model fit."
      ]
    },
    {
      "cell_type": "code",
      "execution_count": 58,
      "metadata": {
        "colab": {
          "base_uri": "https://localhost:8080/",
          "height": 691
        },
        "id": "nlRwukCNAJaB",
        "outputId": "4085dc31-6653-4f9e-d678-e58df6d25761"
      },
      "outputs": [
        {
          "name": "stdout",
          "output_type": "stream",
          "text": [
            "Epoch 1/15\n",
            "65/65 [==============================] - 93s 1s/step - loss: 0.5726 - accuracy: 0.8660 - val_loss: 0.2666 - val_accuracy: 0.9251 - lr: 0.0100\n",
            "Epoch 2/15\n",
            "65/65 [==============================] - 84s 1s/step - loss: 0.1935 - accuracy: 0.9458 - val_loss: 0.1374 - val_accuracy: 0.9642 - lr: 0.0100\n",
            "Epoch 3/15\n",
            "65/65 [==============================] - 79s 1s/step - loss: 0.1105 - accuracy: 0.9700 - val_loss: 0.1056 - val_accuracy: 0.9710 - lr: 0.0100\n",
            "Epoch 4/15\n",
            "65/65 [==============================] - 79s 1s/step - loss: 0.0835 - accuracy: 0.9763 - val_loss: 0.0988 - val_accuracy: 0.9722 - lr: 0.0100\n",
            "Epoch 5/15\n",
            "65/65 [==============================] - 80s 1s/step - loss: 0.0702 - accuracy: 0.9797 - val_loss: 0.0949 - val_accuracy: 0.9741 - lr: 0.0100\n",
            "Epoch 6/15\n",
            "65/65 [==============================] - 79s 1s/step - loss: 0.0611 - accuracy: 0.9819 - val_loss: 0.0978 - val_accuracy: 0.9741 - lr: 0.0100\n",
            "Epoch 7/15\n",
            "65/65 [==============================] - 79s 1s/step - loss: 0.0550 - accuracy: 0.9836 - val_loss: 0.0988 - val_accuracy: 0.9747 - lr: 0.0100\n",
            "Epoch 8/15\n",
            "65/65 [==============================] - 79s 1s/step - loss: 0.0502 - accuracy: 0.9848 - val_loss: 0.0997 - val_accuracy: 0.9744 - lr: 0.0100\n",
            "Epoch 9/15\n",
            "65/65 [==============================] - 84s 1s/step - loss: 0.0462 - accuracy: 0.9859 - val_loss: 0.1036 - val_accuracy: 0.9746 - lr: 0.0100\n",
            "Epoch 10/15\n",
            "65/65 [==============================] - 80s 1s/step - loss: 0.0407 - accuracy: 0.9875 - val_loss: 0.1058 - val_accuracy: 0.9744 - lr: 0.0070\n"
          ]
        },
        {
          "data": {
            "image/png": "[encoded data removed]",
            "text/plain": [
              "<Figure size 576x360 with 1 Axes>"
            ]
          },
          "metadata": {
            "needs_background": "light"
          },
          "output_type": "display_data"
        }
      ],
      "source": [
        "fit = model.fit(\n",
        "      x = x_train\n",
        "    , y = y_train\n",
        "    , validation_data = (x_valid, y_valid)\n",
        "    , callbacks = callbacks\n",
        "    , batch_size = 500\n",
        "    , epochs = 15\n",
        ")\n",
        "plot_fit(fit)"
      ]
    },
    {
      "attachments": {},
      "cell_type": "markdown",
      "metadata": {},
      "source": [
        "### Our model stops after 10 epochs with a 97.44% validation accuracy. Learning began plateauing early on both validation loss and accuracy. While we seem to have avoided overfitting less training would be fine."
      ]
    },
    {
      "cell_type": "code",
      "execution_count": 35,
      "metadata": {
        "id": "zOZaeG-sYQbn"
      },
      "outputs": [],
      "source": [
        "# model_best = tf.keras.models.load_model(path_best)\n",
        "# model_best.input_shape"
      ]
    },
    {
      "attachments": {},
      "cell_type": "markdown",
      "metadata": {},
      "source": [
        "### Evaluate model performance on validation data."
      ]
    },
    {
      "cell_type": "code",
      "execution_count": 31,
      "metadata": {
        "colab": {
          "base_uri": "https://localhost:8080/"
        },
        "id": "Dw3_RPqg8lqj",
        "outputId": "2160b13f-4f26-41f7-f543-651f2e9287db"
      },
      "outputs": [
        {
          "name": "stdout",
          "output_type": "stream",
          "text": [
            "338/338 [==============================] - 14s 37ms/step\n"
          ]
        }
      ],
      "source": [
        "y_true = np.array([y_tokens.vocab_i[i] for i in np.argmax(y_valid, axis = -1).flatten()])\n",
        "y_pred = np.array([y_tokens.vocab_i[i] for i in np.argmax(model.predict(x_valid), axis = -1).flatten()])"
      ]
    },
    {
      "cell_type": "code",
      "execution_count": 45,
      "metadata": {
        "colab": {
          "base_uri": "https://localhost:8080/",
          "height": 645
        },
        "id": "gOhUDn0GAfYs",
        "outputId": "951638bf-0eb1-494c-8464-1009c1f1c127"
      },
      "outputs": [
        {
          "data": {
            "text/html": [
              "<style type=\"text/css\">\n",
              "#T_e251e_row0_col3 {\n",
              "  background-color: #2c75b4;\n",
              "  color: #f1f1f1;\n",
              "}\n",
              "#T_e251e_row1_col3 {\n",
              "  background-color: #b6d7e8;\n",
              "  color: #000000;\n",
              "}\n",
              "#T_e251e_row2_col3, #T_e251e_row4_col3, #T_e251e_row7_col3, #T_e251e_row10_col3, #T_e251e_row11_col3, #T_e251e_row14_col3, #T_e251e_row15_col3, #T_e251e_row17_col3 {\n",
              "  background-color: #67001f;\n",
              "  color: #f1f1f1;\n",
              "}\n",
              "#T_e251e_row3_col3, #T_e251e_row9_col3 {\n",
              "  background-color: #62a7ce;\n",
              "  color: #f1f1f1;\n",
              "}\n",
              "#T_e251e_row5_col3 {\n",
              "  background-color: #9dcbe1;\n",
              "  color: #000000;\n",
              "}\n",
              "#T_e251e_row6_col3 {\n",
              "  background-color: #053061;\n",
              "  color: #f1f1f1;\n",
              "}\n",
              "#T_e251e_row8_col3 {\n",
              "  background-color: #2e77b5;\n",
              "  color: #f1f1f1;\n",
              "}\n",
              "#T_e251e_row12_col3 {\n",
              "  background-color: #073467;\n",
              "  color: #f1f1f1;\n",
              "}\n",
              "#T_e251e_row13_col3 {\n",
              "  background-color: #3e8cbf;\n",
              "  color: #f1f1f1;\n",
              "}\n",
              "#T_e251e_row16_col3 {\n",
              "  background-color: #bbdaea;\n",
              "  color: #000000;\n",
              "}\n",
              "#T_e251e_row18_col3 {\n",
              "  background-color: #185493;\n",
              "  color: #f1f1f1;\n",
              "}\n",
              "</style>\n",
              "<table id=\"T_e251e_\" class=\"dataframe\">\n",
              "  <thead>\n",
              "    <tr>\n",
              "      <th class=\"blank level0\" >&nbsp;</th>\n",
              "      <th class=\"col_heading level0 col0\" >Tag</th>\n",
              "      <th class=\"col_heading level0 col1\" >True</th>\n",
              "      <th class=\"col_heading level0 col2\" >Pred</th>\n",
              "      <th class=\"col_heading level0 col3\" >Accuracy</th>\n",
              "    </tr>\n",
              "  </thead>\n",
              "  <tbody>\n",
              "    <tr>\n",
              "      <th id=\"T_e251e_level0_row0\" class=\"row_heading level0 row0\" >0</th>\n",
              "      <td id=\"T_e251e_row0_col0\" class=\"data row0 col0\" >b-tim</td>\n",
              "      <td id=\"T_e251e_row0_col1\" class=\"data row0 col1\" >4549</td>\n",
              "      <td id=\"T_e251e_row0_col2\" class=\"data row0 col2\" >3932</td>\n",
              "      <td id=\"T_e251e_row0_col3\" class=\"data row0 col3\" >0.864366</td>\n",
              "    </tr>\n",
              "    <tr>\n",
              "      <th id=\"T_e251e_level0_row1\" class=\"row_heading level0 row1\" >1</th>\n",
              "      <td id=\"T_e251e_row1_col0\" class=\"data row1 col0\" >i-org</td>\n",
              "      <td id=\"T_e251e_row1_col1\" class=\"data row1 col1\" >3600</td>\n",
              "      <td id=\"T_e251e_row1_col2\" class=\"data row1 col2\" >2310</td>\n",
              "      <td id=\"T_e251e_row1_col3\" class=\"data row1 col3\" >0.641667</td>\n",
              "    </tr>\n",
              "    <tr>\n",
              "      <th id=\"T_e251e_level0_row2\" class=\"row_heading level0 row2\" >2</th>\n",
              "      <td id=\"T_e251e_row2_col0\" class=\"data row2 col0\" >i-nat</td>\n",
              "      <td id=\"T_e251e_row2_col1\" class=\"data row2 col1\" >17</td>\n",
              "      <td id=\"T_e251e_row2_col2\" class=\"data row2 col2\" >0</td>\n",
              "      <td id=\"T_e251e_row2_col3\" class=\"data row2 col3\" >0.000000</td>\n",
              "    </tr>\n",
              "    <tr>\n",
              "      <th id=\"T_e251e_level0_row3\" class=\"row_heading level0 row3\" >3</th>\n",
              "      <td id=\"T_e251e_row3_col0\" class=\"data row3 col0\" >i-geo</td>\n",
              "      <td id=\"T_e251e_row3_col1\" class=\"data row3 col1\" >1687</td>\n",
              "      <td id=\"T_e251e_row3_col2\" class=\"data row3 col2\" >1280</td>\n",
              "      <td id=\"T_e251e_row3_col3\" class=\"data row3 col3\" >0.758743</td>\n",
              "    </tr>\n",
              "    <tr>\n",
              "      <th id=\"T_e251e_level0_row4\" class=\"row_heading level0 row4\" >4</th>\n",
              "      <td id=\"T_e251e_row4_col0\" class=\"data row4 col0\" >__OOV__</td>\n",
              "      <td id=\"T_e251e_row4_col1\" class=\"data row4 col1\" >1</td>\n",
              "      <td id=\"T_e251e_row4_col2\" class=\"data row4 col2\" >0</td>\n",
              "      <td id=\"T_e251e_row4_col3\" class=\"data row4 col3\" >0.000000</td>\n",
              "    </tr>\n",
              "    <tr>\n",
              "      <th id=\"T_e251e_level0_row5\" class=\"row_heading level0 row5\" >5</th>\n",
              "      <td id=\"T_e251e_row5_col0\" class=\"data row5 col0\" >i-tim</td>\n",
              "      <td id=\"T_e251e_row5_col1\" class=\"data row5 col1\" >1385</td>\n",
              "      <td id=\"T_e251e_row5_col2\" class=\"data row5 col2\" >945</td>\n",
              "      <td id=\"T_e251e_row5_col3\" class=\"data row5 col3\" >0.682310</td>\n",
              "    </tr>\n",
              "    <tr>\n",
              "      <th id=\"T_e251e_level0_row6\" class=\"row_heading level0 row6\" >6</th>\n",
              "      <td id=\"T_e251e_row6_col0\" class=\"data row6 col0\" >__PADDER__</td>\n",
              "      <td id=\"T_e251e_row6_col1\" class=\"data row6 col1\" >144274</td>\n",
              "      <td id=\"T_e251e_row6_col2\" class=\"data row6 col2\" >144271</td>\n",
              "      <td id=\"T_e251e_row6_col3\" class=\"data row6 col3\" >0.999979</td>\n",
              "    </tr>\n",
              "    <tr>\n",
              "      <th id=\"T_e251e_level0_row7\" class=\"row_heading level0 row7\" >7</th>\n",
              "      <td id=\"T_e251e_row7_col0\" class=\"data row7 col0\" >i-art</td>\n",
              "      <td id=\"T_e251e_row7_col1\" class=\"data row7 col1\" >62</td>\n",
              "      <td id=\"T_e251e_row7_col2\" class=\"data row7 col2\" >0</td>\n",
              "      <td id=\"T_e251e_row7_col3\" class=\"data row7 col3\" >0.000000</td>\n",
              "    </tr>\n",
              "    <tr>\n",
              "      <th id=\"T_e251e_level0_row8\" class=\"row_heading level0 row8\" >8</th>\n",
              "      <td id=\"T_e251e_row8_col0\" class=\"data row8 col0\" >b-geo</td>\n",
              "      <td id=\"T_e251e_row8_col1\" class=\"data row8 col1\" >8450</td>\n",
              "      <td id=\"T_e251e_row8_col2\" class=\"data row8 col2\" >7264</td>\n",
              "      <td id=\"T_e251e_row8_col3\" class=\"data row8 col3\" >0.859645</td>\n",
              "    </tr>\n",
              "    <tr>\n",
              "      <th id=\"T_e251e_level0_row9\" class=\"row_heading level0 row9\" >9</th>\n",
              "      <td id=\"T_e251e_row9_col0\" class=\"data row9 col0\" >b-per</td>\n",
              "      <td id=\"T_e251e_row9_col1\" class=\"data row9 col1\" >3785</td>\n",
              "      <td id=\"T_e251e_row9_col2\" class=\"data row9 col2\" >2875</td>\n",
              "      <td id=\"T_e251e_row9_col3\" class=\"data row9 col3\" >0.759577</td>\n",
              "    </tr>\n",
              "    <tr>\n",
              "      <th id=\"T_e251e_level0_row10\" class=\"row_heading level0 row10\" >10</th>\n",
              "      <td id=\"T_e251e_row10_col0\" class=\"data row10 col0\" >i-gpe</td>\n",
              "      <td id=\"T_e251e_row10_col1\" class=\"data row10 col1\" >54</td>\n",
              "      <td id=\"T_e251e_row10_col2\" class=\"data row10 col2\" >0</td>\n",
              "      <td id=\"T_e251e_row10_col3\" class=\"data row10 col3\" >0.000000</td>\n",
              "    </tr>\n",
              "    <tr>\n",
              "      <th id=\"T_e251e_level0_row11\" class=\"row_heading level0 row11\" >11</th>\n",
              "      <td id=\"T_e251e_row11_col0\" class=\"data row11 col0\" >b-nat</td>\n",
              "      <td id=\"T_e251e_row11_col1\" class=\"data row11 col1\" >53</td>\n",
              "      <td id=\"T_e251e_row11_col2\" class=\"data row11 col2\" >0</td>\n",
              "      <td id=\"T_e251e_row11_col3\" class=\"data row11 col3\" >0.000000</td>\n",
              "    </tr>\n",
              "    <tr>\n",
              "      <th id=\"T_e251e_level0_row12\" class=\"row_heading level0 row12\" >12</th>\n",
              "      <td id=\"T_e251e_row12_col0\" class=\"data row12 col0\" >o</td>\n",
              "      <td id=\"T_e251e_row12_col1\" class=\"data row12 col1\" >197761</td>\n",
              "      <td id=\"T_e251e_row12_col2\" class=\"data row12 col2\" >195535</td>\n",
              "      <td id=\"T_e251e_row12_col3\" class=\"data row12 col3\" >0.988744</td>\n",
              "    </tr>\n",
              "    <tr>\n",
              "      <th id=\"T_e251e_level0_row13\" class=\"row_heading level0 row13\" >13</th>\n",
              "      <td id=\"T_e251e_row13_col0\" class=\"data row13 col0\" >i-per</td>\n",
              "      <td id=\"T_e251e_row13_col1\" class=\"data row13 col1\" >3820</td>\n",
              "      <td id=\"T_e251e_row13_col2\" class=\"data row13 col2\" >3116</td>\n",
              "      <td id=\"T_e251e_row13_col3\" class=\"data row13 col3\" >0.815707</td>\n",
              "    </tr>\n",
              "    <tr>\n",
              "      <th id=\"T_e251e_level0_row14\" class=\"row_heading level0 row14\" >14</th>\n",
              "      <td id=\"T_e251e_row14_col0\" class=\"data row14 col0\" >i-eve</td>\n",
              "      <td id=\"T_e251e_row14_col1\" class=\"data row14 col1\" >54</td>\n",
              "      <td id=\"T_e251e_row14_col2\" class=\"data row14 col2\" >0</td>\n",
              "      <td id=\"T_e251e_row14_col3\" class=\"data row14 col3\" >0.000000</td>\n",
              "    </tr>\n",
              "    <tr>\n",
              "      <th id=\"T_e251e_level0_row15\" class=\"row_heading level0 row15\" >15</th>\n",
              "      <td id=\"T_e251e_row15_col0\" class=\"data row15 col0\" >b-art</td>\n",
              "      <td id=\"T_e251e_row15_col1\" class=\"data row15 col1\" >82</td>\n",
              "      <td id=\"T_e251e_row15_col2\" class=\"data row15 col2\" >0</td>\n",
              "      <td id=\"T_e251e_row15_col3\" class=\"data row15 col3\" >0.000000</td>\n",
              "    </tr>\n",
              "    <tr>\n",
              "      <th id=\"T_e251e_level0_row16\" class=\"row_heading level0 row16\" >16</th>\n",
              "      <td id=\"T_e251e_row16_col0\" class=\"data row16 col0\" >b-org</td>\n",
              "      <td id=\"T_e251e_row16_col1\" class=\"data row16 col1\" >4449</td>\n",
              "      <td id=\"T_e251e_row16_col2\" class=\"data row16 col2\" >2827</td>\n",
              "      <td id=\"T_e251e_row16_col3\" class=\"data row16 col3\" >0.635424</td>\n",
              "    </tr>\n",
              "    <tr>\n",
              "      <th id=\"T_e251e_level0_row17\" class=\"row_heading level0 row17\" >17</th>\n",
              "      <td id=\"T_e251e_row17_col0\" class=\"data row17 col0\" >b-eve</td>\n",
              "      <td id=\"T_e251e_row17_col1\" class=\"data row17 col1\" >64</td>\n",
              "      <td id=\"T_e251e_row17_col2\" class=\"data row17 col2\" >0</td>\n",
              "      <td id=\"T_e251e_row17_col3\" class=\"data row17 col3\" >0.000000</td>\n",
              "    </tr>\n",
              "    <tr>\n",
              "      <th id=\"T_e251e_level0_row18\" class=\"row_heading level0 row18\" >18</th>\n",
              "      <td id=\"T_e251e_row18_col0\" class=\"data row18 col0\" >b-gpe</td>\n",
              "      <td id=\"T_e251e_row18_col1\" class=\"data row18 col1\" >3538</td>\n",
              "      <td id=\"T_e251e_row18_col2\" class=\"data row18 col2\" >3291</td>\n",
              "      <td id=\"T_e251e_row18_col3\" class=\"data row18 col3\" >0.930187</td>\n",
              "    </tr>\n",
              "  </tbody>\n",
              "</table>\n"
            ],
            "text/plain": [
              "<pandas.io.formats.style.Styler at 0x7fac0996f9a0>"
            ]
          },
          "execution_count": 45,
          "metadata": {},
          "output_type": "execute_result"
        }
      ],
      "source": [
        "df_valid_results = pd.DataFrame(\n",
        "      list(build_results(y_tokens.vocab_w.keys(), y_true, y_pred))\n",
        "    , columns = ['Tag', 'True', 'Pred', 'Accuracy']\n",
        ")\n",
        "df_valid_results.style.background_gradient(\n",
        "      cmap = 'RdBu'\n",
        "    , vmin = 0\n",
        "    , vmax = 1\n",
        "    , subset = ['Accuracy']\n",
        ")"
      ]
    },
    {
      "attachments": {},
      "cell_type": "markdown",
      "metadata": {},
      "source": [
        "### Evaluate model performance on test data."
      ]
    },
    {
      "cell_type": "code",
      "execution_count": 36,
      "metadata": {
        "colab": {
          "base_uri": "https://localhost:8080/"
        },
        "id": "OuL0IoUsJo9D",
        "outputId": "17472bea-e2cc-43a3-cd2e-d57dc2c19cf2"
      },
      "outputs": [
        {
          "name": "stdout",
          "output_type": "stream",
          "text": [
            "150/150 [==============================] - 4s 27ms/step\n"
          ]
        }
      ],
      "source": [
        "test_true = np.array([y_tokens.vocab_i[i] for i in np.argmax(y_test, axis = -1).flatten()])\n",
        "test_pred = np.array([y_tokens.vocab_i[i] for i in np.argmax(model.predict(x_test), axis = -1).flatten()])"
      ]
    },
    {
      "cell_type": "code",
      "execution_count": 54,
      "metadata": {
        "colab": {
          "base_uri": "https://localhost:8080/",
          "height": 645
        },
        "id": "8W7qgHMEJ5M8",
        "outputId": "a67ce48c-52f9-4c88-8495-2b55f0f39b3c"
      },
      "outputs": [
        {
          "data": {
            "text/html": [
              "<style type=\"text/css\">\n",
              "#T_22321_row0_col3 {\n",
              "  background-color: #307ab6;\n",
              "  color: #f1f1f1;\n",
              "}\n",
              "#T_22321_row1_col3 {\n",
              "  background-color: #cae1ee;\n",
              "  color: #000000;\n",
              "}\n",
              "#T_22321_row2_col3, #T_22321_row4_col3, #T_22321_row7_col3, #T_22321_row10_col3, #T_22321_row11_col3, #T_22321_row14_col3, #T_22321_row15_col3, #T_22321_row17_col3 {\n",
              "  background-color: #67001f;\n",
              "  color: #f1f1f1;\n",
              "}\n",
              "#T_22321_row3_col3 {\n",
              "  background-color: #569fc9;\n",
              "  color: #f1f1f1;\n",
              "}\n",
              "#T_22321_row5_col3 {\n",
              "  background-color: #c5dfec;\n",
              "  color: #000000;\n",
              "}\n",
              "#T_22321_row6_col3 {\n",
              "  background-color: #053061;\n",
              "  color: #f1f1f1;\n",
              "}\n",
              "#T_22321_row8_col3 {\n",
              "  background-color: #246aae;\n",
              "  color: #f1f1f1;\n",
              "}\n",
              "#T_22321_row9_col3 {\n",
              "  background-color: #4393c3;\n",
              "  color: #f1f1f1;\n",
              "}\n",
              "#T_22321_row12_col3 {\n",
              "  background-color: #073467;\n",
              "  color: #f1f1f1;\n",
              "}\n",
              "#T_22321_row13_col3 {\n",
              "  background-color: #266caf;\n",
              "  color: #f1f1f1;\n",
              "}\n",
              "#T_22321_row16_col3 {\n",
              "  background-color: #c2ddec;\n",
              "  color: #000000;\n",
              "}\n",
              "#T_22321_row18_col3 {\n",
              "  background-color: #15508d;\n",
              "  color: #f1f1f1;\n",
              "}\n",
              "</style>\n",
              "<table id=\"T_22321_\" class=\"dataframe\">\n",
              "  <thead>\n",
              "    <tr>\n",
              "      <th class=\"blank level0\" >&nbsp;</th>\n",
              "      <th class=\"col_heading level0 col0\" >Tag</th>\n",
              "      <th class=\"col_heading level0 col1\" >True</th>\n",
              "      <th class=\"col_heading level0 col2\" >Pred</th>\n",
              "      <th class=\"col_heading level0 col3\" >Accuracy</th>\n",
              "    </tr>\n",
              "  </thead>\n",
              "  <tbody>\n",
              "    <tr>\n",
              "      <th id=\"T_22321_level0_row0\" class=\"row_heading level0 row0\" >0</th>\n",
              "      <td id=\"T_22321_row0_col0\" class=\"data row0 col0\" >b-tim</td>\n",
              "      <td id=\"T_22321_row0_col1\" class=\"data row0 col1\" >2023</td>\n",
              "      <td id=\"T_22321_row0_col2\" class=\"data row0 col2\" >1725</td>\n",
              "      <td id=\"T_22321_row0_col3\" class=\"data row0 col3\" >0.852694</td>\n",
              "    </tr>\n",
              "    <tr>\n",
              "      <th id=\"T_22321_level0_row1\" class=\"row_heading level0 row1\" >1</th>\n",
              "      <td id=\"T_22321_row1_col0\" class=\"data row1 col0\" >i-org</td>\n",
              "      <td id=\"T_22321_row1_col1\" class=\"data row1 col1\" >1601</td>\n",
              "      <td id=\"T_22321_row1_col2\" class=\"data row1 col2\" >976</td>\n",
              "      <td id=\"T_22321_row1_col3\" class=\"data row1 col3\" >0.609619</td>\n",
              "    </tr>\n",
              "    <tr>\n",
              "      <th id=\"T_22321_level0_row2\" class=\"row_heading level0 row2\" >2</th>\n",
              "      <td id=\"T_22321_row2_col0\" class=\"data row2 col0\" >i-nat</td>\n",
              "      <td id=\"T_22321_row2_col1\" class=\"data row2 col1\" >3</td>\n",
              "      <td id=\"T_22321_row2_col2\" class=\"data row2 col2\" >0</td>\n",
              "      <td id=\"T_22321_row2_col3\" class=\"data row2 col3\" >0.000000</td>\n",
              "    </tr>\n",
              "    <tr>\n",
              "      <th id=\"T_22321_level0_row3\" class=\"row_heading level0 row3\" >3</th>\n",
              "      <td id=\"T_22321_row3_col0\" class=\"data row3 col0\" >i-geo</td>\n",
              "      <td id=\"T_22321_row3_col1\" class=\"data row3 col1\" >727</td>\n",
              "      <td id=\"T_22321_row3_col2\" class=\"data row3 col2\" >563</td>\n",
              "      <td id=\"T_22321_row3_col3\" class=\"data row3 col3\" >0.774415</td>\n",
              "    </tr>\n",
              "    <tr>\n",
              "      <th id=\"T_22321_level0_row4\" class=\"row_heading level0 row4\" >4</th>\n",
              "      <td id=\"T_22321_row4_col0\" class=\"data row4 col0\" >__OOV__</td>\n",
              "      <td id=\"T_22321_row4_col1\" class=\"data row4 col1\" >1354</td>\n",
              "      <td id=\"T_22321_row4_col2\" class=\"data row4 col2\" >0</td>\n",
              "      <td id=\"T_22321_row4_col3\" class=\"data row4 col3\" >0.000000</td>\n",
              "    </tr>\n",
              "    <tr>\n",
              "      <th id=\"T_22321_level0_row5\" class=\"row_heading level0 row5\" >5</th>\n",
              "      <td id=\"T_22321_row5_col0\" class=\"data row5 col0\" >i-tim</td>\n",
              "      <td id=\"T_22321_row5_col1\" class=\"data row5 col1\" >667</td>\n",
              "      <td id=\"T_22321_row5_col2\" class=\"data row5 col2\" >413</td>\n",
              "      <td id=\"T_22321_row5_col3\" class=\"data row5 col3\" >0.619190</td>\n",
              "    </tr>\n",
              "    <tr>\n",
              "      <th id=\"T_22321_level0_row6\" class=\"row_heading level0 row6\" >6</th>\n",
              "      <td id=\"T_22321_row6_col0\" class=\"data row6 col0\" >__PADDER__</td>\n",
              "      <td id=\"T_22321_row6_col1\" class=\"data row6 col1\" >64548</td>\n",
              "      <td id=\"T_22321_row6_col2\" class=\"data row6 col2\" >64547</td>\n",
              "      <td id=\"T_22321_row6_col3\" class=\"data row6 col3\" >0.999985</td>\n",
              "    </tr>\n",
              "    <tr>\n",
              "      <th id=\"T_22321_level0_row7\" class=\"row_heading level0 row7\" >7</th>\n",
              "      <td id=\"T_22321_row7_col0\" class=\"data row7 col0\" >i-art</td>\n",
              "      <td id=\"T_22321_row7_col1\" class=\"data row7 col1\" >23</td>\n",
              "      <td id=\"T_22321_row7_col2\" class=\"data row7 col2\" >0</td>\n",
              "      <td id=\"T_22321_row7_col3\" class=\"data row7 col3\" >0.000000</td>\n",
              "    </tr>\n",
              "    <tr>\n",
              "      <th id=\"T_22321_level0_row8\" class=\"row_heading level0 row8\" >8</th>\n",
              "      <td id=\"T_22321_row8_col0\" class=\"data row8 col0\" >b-geo</td>\n",
              "      <td id=\"T_22321_row8_col1\" class=\"data row8 col1\" >3687</td>\n",
              "      <td id=\"T_22321_row8_col2\" class=\"data row8 col2\" >3272</td>\n",
              "      <td id=\"T_22321_row8_col3\" class=\"data row8 col3\" >0.887442</td>\n",
              "    </tr>\n",
              "    <tr>\n",
              "      <th id=\"T_22321_level0_row9\" class=\"row_heading level0 row9\" >9</th>\n",
              "      <td id=\"T_22321_row9_col0\" class=\"data row9 col0\" >b-per</td>\n",
              "      <td id=\"T_22321_row9_col1\" class=\"data row9 col1\" >1661</td>\n",
              "      <td id=\"T_22321_row9_col2\" class=\"data row9 col2\" >1324</td>\n",
              "      <td id=\"T_22321_row9_col3\" class=\"data row9 col3\" >0.797110</td>\n",
              "    </tr>\n",
              "    <tr>\n",
              "      <th id=\"T_22321_level0_row10\" class=\"row_heading level0 row10\" >10</th>\n",
              "      <td id=\"T_22321_row10_col0\" class=\"data row10 col0\" >i-gpe</td>\n",
              "      <td id=\"T_22321_row10_col1\" class=\"data row10 col1\" >10</td>\n",
              "      <td id=\"T_22321_row10_col2\" class=\"data row10 col2\" >0</td>\n",
              "      <td id=\"T_22321_row10_col3\" class=\"data row10 col3\" >0.000000</td>\n",
              "    </tr>\n",
              "    <tr>\n",
              "      <th id=\"T_22321_level0_row11\" class=\"row_heading level0 row11\" >11</th>\n",
              "      <td id=\"T_22321_row11_col0\" class=\"data row11 col0\" >b-nat</td>\n",
              "      <td id=\"T_22321_row11_col1\" class=\"data row11 col1\" >21</td>\n",
              "      <td id=\"T_22321_row11_col2\" class=\"data row11 col2\" >0</td>\n",
              "      <td id=\"T_22321_row11_col3\" class=\"data row11 col3\" >0.000000</td>\n",
              "    </tr>\n",
              "    <tr>\n",
              "      <th id=\"T_22321_level0_row12\" class=\"row_heading level0 row12\" >12</th>\n",
              "      <td id=\"T_22321_row12_col0\" class=\"data row12 col0\" >o</td>\n",
              "      <td id=\"T_22321_row12_col1\" class=\"data row12 col1\" >86332</td>\n",
              "      <td id=\"T_22321_row12_col2\" class=\"data row12 col2\" >85364</td>\n",
              "      <td id=\"T_22321_row12_col3\" class=\"data row12 col3\" >0.988787</td>\n",
              "    </tr>\n",
              "    <tr>\n",
              "      <th id=\"T_22321_level0_row13\" class=\"row_heading level0 row13\" >13</th>\n",
              "      <td id=\"T_22321_row13_col0\" class=\"data row13 col0\" >i-per</td>\n",
              "      <td id=\"T_22321_row13_col1\" class=\"data row13 col1\" >1617</td>\n",
              "      <td id=\"T_22321_row13_col2\" class=\"data row13 col2\" >1430</td>\n",
              "      <td id=\"T_22321_row13_col3\" class=\"data row13 col3\" >0.884354</td>\n",
              "    </tr>\n",
              "    <tr>\n",
              "      <th id=\"T_22321_level0_row14\" class=\"row_heading level0 row14\" >14</th>\n",
              "      <td id=\"T_22321_row14_col0\" class=\"data row14 col0\" >i-eve</td>\n",
              "      <td id=\"T_22321_row14_col1\" class=\"data row14 col1\" >25</td>\n",
              "      <td id=\"T_22321_row14_col2\" class=\"data row14 col2\" >0</td>\n",
              "      <td id=\"T_22321_row14_col3\" class=\"data row14 col3\" >0.000000</td>\n",
              "    </tr>\n",
              "    <tr>\n",
              "      <th id=\"T_22321_level0_row15\" class=\"row_heading level0 row15\" >15</th>\n",
              "      <td id=\"T_22321_row15_col0\" class=\"data row15 col0\" >b-art</td>\n",
              "      <td id=\"T_22321_row15_col1\" class=\"data row15 col1\" >34</td>\n",
              "      <td id=\"T_22321_row15_col2\" class=\"data row15 col2\" >0</td>\n",
              "      <td id=\"T_22321_row15_col3\" class=\"data row15 col3\" >0.000000</td>\n",
              "    </tr>\n",
              "    <tr>\n",
              "      <th id=\"T_22321_level0_row16\" class=\"row_heading level0 row16\" >16</th>\n",
              "      <td id=\"T_22321_row16_col0\" class=\"data row16 col0\" >b-org</td>\n",
              "      <td id=\"T_22321_row16_col1\" class=\"data row16 col1\" >1884</td>\n",
              "      <td id=\"T_22321_row16_col2\" class=\"data row16 col2\" >1173</td>\n",
              "      <td id=\"T_22321_row16_col3\" class=\"data row16 col3\" >0.622611</td>\n",
              "    </tr>\n",
              "    <tr>\n",
              "      <th id=\"T_22321_level0_row17\" class=\"row_heading level0 row17\" >17</th>\n",
              "      <td id=\"T_22321_row17_col0\" class=\"data row17 col0\" >b-eve</td>\n",
              "      <td id=\"T_22321_row17_col1\" class=\"data row17 col1\" >29</td>\n",
              "      <td id=\"T_22321_row17_col2\" class=\"data row17 col2\" >0</td>\n",
              "      <td id=\"T_22321_row17_col3\" class=\"data row17 col3\" >0.000000</td>\n",
              "    </tr>\n",
              "    <tr>\n",
              "      <th id=\"T_22321_level0_row18\" class=\"row_heading level0 row18\" >18</th>\n",
              "      <td id=\"T_22321_row18_col0\" class=\"data row18 col0\" >b-gpe</td>\n",
              "      <td id=\"T_22321_row18_col1\" class=\"data row18 col1\" >1614</td>\n",
              "      <td id=\"T_22321_row18_col2\" class=\"data row18 col2\" >1517</td>\n",
              "      <td id=\"T_22321_row18_col3\" class=\"data row18 col3\" >0.939901</td>\n",
              "    </tr>\n",
              "  </tbody>\n",
              "</table>\n"
            ],
            "text/plain": [
              "<pandas.io.formats.style.Styler at 0x7fac09506100>"
            ]
          },
          "execution_count": 54,
          "metadata": {},
          "output_type": "execute_result"
        }
      ],
      "source": [
        "df_test_results = pd.DataFrame(\n",
        "      list(build_results(y_tokens.vocab_w.keys(), test_true, test_pred))\n",
        "    , columns = ['Tag', 'True', 'Pred', 'Accuracy']\n",
        ")\n",
        "df_test_results.style.background_gradient(\n",
        "      cmap = 'RdBu'\n",
        "    , vmin = 0\n",
        "    , vmax = 1\n",
        "    , subset = ['Accuracy']\n",
        ")"
      ]
    },
    {
      "attachments": {},
      "cell_type": "markdown",
      "metadata": {},
      "source": [
        "### Compare validation and test results.\n",
        "### We seem to have generalized well, the validation and test results are within a close range to one another and there are even cases of the model performing better on the test data than the validation data."
      ]
    },
    {
      "cell_type": "code",
      "execution_count": 55,
      "metadata": {
        "colab": {
          "base_uri": "https://localhost:8080/",
          "height": 645
        },
        "id": "WYPZ0yNjKFzD",
        "outputId": "2d49dd6d-3657-4b61-af34-e4cdf9ec8ffa"
      },
      "outputs": [
        {
          "data": {
            "text/html": [
              "<style type=\"text/css\">\n",
              "#T_88e79_row0_col1 {\n",
              "  background-color: #2c75b4;\n",
              "  color: #f1f1f1;\n",
              "}\n",
              "#T_88e79_row0_col2 {\n",
              "  background-color: #307ab6;\n",
              "  color: #f1f1f1;\n",
              "}\n",
              "#T_88e79_row0_col3 {\n",
              "  background-color: #fcd3bc;\n",
              "  color: #000000;\n",
              "}\n",
              "#T_88e79_row1_col1 {\n",
              "  background-color: #b6d7e8;\n",
              "  color: #000000;\n",
              "}\n",
              "#T_88e79_row1_col2 {\n",
              "  background-color: #cae1ee;\n",
              "  color: #000000;\n",
              "}\n",
              "#T_88e79_row1_col3 {\n",
              "  background-color: #ce4f45;\n",
              "  color: #f1f1f1;\n",
              "}\n",
              "#T_88e79_row2_col1, #T_88e79_row2_col2, #T_88e79_row4_col1, #T_88e79_row4_col2, #T_88e79_row5_col3, #T_88e79_row7_col1, #T_88e79_row7_col2, #T_88e79_row10_col1, #T_88e79_row10_col2, #T_88e79_row11_col1, #T_88e79_row11_col2, #T_88e79_row14_col1, #T_88e79_row14_col2, #T_88e79_row15_col1, #T_88e79_row15_col2, #T_88e79_row17_col1, #T_88e79_row17_col2 {\n",
              "  background-color: #67001f;\n",
              "  color: #f1f1f1;\n",
              "}\n",
              "#T_88e79_row2_col3, #T_88e79_row4_col3, #T_88e79_row6_col3, #T_88e79_row7_col3, #T_88e79_row10_col3, #T_88e79_row11_col3, #T_88e79_row12_col3, #T_88e79_row14_col3, #T_88e79_row15_col3, #T_88e79_row17_col3 {\n",
              "  background-color: #f6f7f7;\n",
              "  color: #000000;\n",
              "}\n",
              "#T_88e79_row3_col1, #T_88e79_row9_col1 {\n",
              "  background-color: #62a7ce;\n",
              "  color: #f1f1f1;\n",
              "}\n",
              "#T_88e79_row3_col2 {\n",
              "  background-color: #569fc9;\n",
              "  color: #f1f1f1;\n",
              "}\n",
              "#T_88e79_row3_col3 {\n",
              "  background-color: #acd2e5;\n",
              "  color: #000000;\n",
              "}\n",
              "#T_88e79_row5_col1 {\n",
              "  background-color: #9dcbe1;\n",
              "  color: #000000;\n",
              "}\n",
              "#T_88e79_row5_col2 {\n",
              "  background-color: #c5dfec;\n",
              "  color: #000000;\n",
              "}\n",
              "#T_88e79_row6_col1, #T_88e79_row6_col2, #T_88e79_row13_col3 {\n",
              "  background-color: #053061;\n",
              "  color: #f1f1f1;\n",
              "}\n",
              "#T_88e79_row8_col1 {\n",
              "  background-color: #2e77b5;\n",
              "  color: #f1f1f1;\n",
              "}\n",
              "#T_88e79_row8_col2 {\n",
              "  background-color: #246aae;\n",
              "  color: #f1f1f1;\n",
              "}\n",
              "#T_88e79_row8_col3 {\n",
              "  background-color: #529dc8;\n",
              "  color: #f1f1f1;\n",
              "}\n",
              "#T_88e79_row9_col2 {\n",
              "  background-color: #4393c3;\n",
              "  color: #f1f1f1;\n",
              "}\n",
              "#T_88e79_row9_col3 {\n",
              "  background-color: #2870b1;\n",
              "  color: #f1f1f1;\n",
              "}\n",
              "#T_88e79_row12_col1, #T_88e79_row12_col2 {\n",
              "  background-color: #073467;\n",
              "  color: #f1f1f1;\n",
              "}\n",
              "#T_88e79_row13_col1 {\n",
              "  background-color: #3e8cbf;\n",
              "  color: #f1f1f1;\n",
              "}\n",
              "#T_88e79_row13_col2 {\n",
              "  background-color: #266caf;\n",
              "  color: #f1f1f1;\n",
              "}\n",
              "#T_88e79_row16_col1 {\n",
              "  background-color: #bbdaea;\n",
              "  color: #000000;\n",
              "}\n",
              "#T_88e79_row16_col2 {\n",
              "  background-color: #c2ddec;\n",
              "  color: #000000;\n",
              "}\n",
              "#T_88e79_row16_col3 {\n",
              "  background-color: #fbccb4;\n",
              "  color: #000000;\n",
              "}\n",
              "#T_88e79_row18_col1 {\n",
              "  background-color: #185493;\n",
              "  color: #f1f1f1;\n",
              "}\n",
              "#T_88e79_row18_col2 {\n",
              "  background-color: #15508d;\n",
              "  color: #f1f1f1;\n",
              "}\n",
              "#T_88e79_row18_col3 {\n",
              "  background-color: #d2e6f0;\n",
              "  color: #000000;\n",
              "}\n",
              "</style>\n",
              "<table id=\"T_88e79_\" class=\"dataframe\">\n",
              "  <thead>\n",
              "    <tr>\n",
              "      <th class=\"blank level0\" >&nbsp;</th>\n",
              "      <th class=\"col_heading level0 col0\" >Tag</th>\n",
              "      <th class=\"col_heading level0 col1\" >Validation Accuracy</th>\n",
              "      <th class=\"col_heading level0 col2\" >Test Accuracy</th>\n",
              "      <th class=\"col_heading level0 col3\" >Test Accuracy Change</th>\n",
              "    </tr>\n",
              "  </thead>\n",
              "  <tbody>\n",
              "    <tr>\n",
              "      <th id=\"T_88e79_level0_row0\" class=\"row_heading level0 row0\" >0</th>\n",
              "      <td id=\"T_88e79_row0_col0\" class=\"data row0 col0\" >b-tim</td>\n",
              "      <td id=\"T_88e79_row0_col1\" class=\"data row0 col1\" >0.864366</td>\n",
              "      <td id=\"T_88e79_row0_col2\" class=\"data row0 col2\" >0.852694</td>\n",
              "      <td id=\"T_88e79_row0_col3\" class=\"data row0 col3\" >-0.011672</td>\n",
              "    </tr>\n",
              "    <tr>\n",
              "      <th id=\"T_88e79_level0_row1\" class=\"row_heading level0 row1\" >1</th>\n",
              "      <td id=\"T_88e79_row1_col0\" class=\"data row1 col0\" >i-org</td>\n",
              "      <td id=\"T_88e79_row1_col1\" class=\"data row1 col1\" >0.641667</td>\n",
              "      <td id=\"T_88e79_row1_col2\" class=\"data row1 col2\" >0.609619</td>\n",
              "      <td id=\"T_88e79_row1_col3\" class=\"data row1 col3\" >-0.032048</td>\n",
              "    </tr>\n",
              "    <tr>\n",
              "      <th id=\"T_88e79_level0_row2\" class=\"row_heading level0 row2\" >2</th>\n",
              "      <td id=\"T_88e79_row2_col0\" class=\"data row2 col0\" >i-nat</td>\n",
              "      <td id=\"T_88e79_row2_col1\" class=\"data row2 col1\" >0.000000</td>\n",
              "      <td id=\"T_88e79_row2_col2\" class=\"data row2 col2\" >0.000000</td>\n",
              "      <td id=\"T_88e79_row2_col3\" class=\"data row2 col3\" >0.000000</td>\n",
              "    </tr>\n",
              "    <tr>\n",
              "      <th id=\"T_88e79_level0_row3\" class=\"row_heading level0 row3\" >3</th>\n",
              "      <td id=\"T_88e79_row3_col0\" class=\"data row3 col0\" >i-geo</td>\n",
              "      <td id=\"T_88e79_row3_col1\" class=\"data row3 col1\" >0.758743</td>\n",
              "      <td id=\"T_88e79_row3_col2\" class=\"data row3 col2\" >0.774415</td>\n",
              "      <td id=\"T_88e79_row3_col3\" class=\"data row3 col3\" >0.015672</td>\n",
              "    </tr>\n",
              "    <tr>\n",
              "      <th id=\"T_88e79_level0_row4\" class=\"row_heading level0 row4\" >4</th>\n",
              "      <td id=\"T_88e79_row4_col0\" class=\"data row4 col0\" >__OOV__</td>\n",
              "      <td id=\"T_88e79_row4_col1\" class=\"data row4 col1\" >0.000000</td>\n",
              "      <td id=\"T_88e79_row4_col2\" class=\"data row4 col2\" >0.000000</td>\n",
              "      <td id=\"T_88e79_row4_col3\" class=\"data row4 col3\" >0.000000</td>\n",
              "    </tr>\n",
              "    <tr>\n",
              "      <th id=\"T_88e79_level0_row5\" class=\"row_heading level0 row5\" >5</th>\n",
              "      <td id=\"T_88e79_row5_col0\" class=\"data row5 col0\" >i-tim</td>\n",
              "      <td id=\"T_88e79_row5_col1\" class=\"data row5 col1\" >0.682310</td>\n",
              "      <td id=\"T_88e79_row5_col2\" class=\"data row5 col2\" >0.619190</td>\n",
              "      <td id=\"T_88e79_row5_col3\" class=\"data row5 col3\" >-0.063120</td>\n",
              "    </tr>\n",
              "    <tr>\n",
              "      <th id=\"T_88e79_level0_row6\" class=\"row_heading level0 row6\" >6</th>\n",
              "      <td id=\"T_88e79_row6_col0\" class=\"data row6 col0\" >__PADDER__</td>\n",
              "      <td id=\"T_88e79_row6_col1\" class=\"data row6 col1\" >0.999979</td>\n",
              "      <td id=\"T_88e79_row6_col2\" class=\"data row6 col2\" >0.999985</td>\n",
              "      <td id=\"T_88e79_row6_col3\" class=\"data row6 col3\" >0.000005</td>\n",
              "    </tr>\n",
              "    <tr>\n",
              "      <th id=\"T_88e79_level0_row7\" class=\"row_heading level0 row7\" >7</th>\n",
              "      <td id=\"T_88e79_row7_col0\" class=\"data row7 col0\" >i-art</td>\n",
              "      <td id=\"T_88e79_row7_col1\" class=\"data row7 col1\" >0.000000</td>\n",
              "      <td id=\"T_88e79_row7_col2\" class=\"data row7 col2\" >0.000000</td>\n",
              "      <td id=\"T_88e79_row7_col3\" class=\"data row7 col3\" >0.000000</td>\n",
              "    </tr>\n",
              "    <tr>\n",
              "      <th id=\"T_88e79_level0_row8\" class=\"row_heading level0 row8\" >8</th>\n",
              "      <td id=\"T_88e79_row8_col0\" class=\"data row8 col0\" >b-geo</td>\n",
              "      <td id=\"T_88e79_row8_col1\" class=\"data row8 col1\" >0.859645</td>\n",
              "      <td id=\"T_88e79_row8_col2\" class=\"data row8 col2\" >0.887442</td>\n",
              "      <td id=\"T_88e79_row8_col3\" class=\"data row8 col3\" >0.027797</td>\n",
              "    </tr>\n",
              "    <tr>\n",
              "      <th id=\"T_88e79_level0_row9\" class=\"row_heading level0 row9\" >9</th>\n",
              "      <td id=\"T_88e79_row9_col0\" class=\"data row9 col0\" >b-per</td>\n",
              "      <td id=\"T_88e79_row9_col1\" class=\"data row9 col1\" >0.759577</td>\n",
              "      <td id=\"T_88e79_row9_col2\" class=\"data row9 col2\" >0.797110</td>\n",
              "      <td id=\"T_88e79_row9_col3\" class=\"data row9 col3\" >0.037533</td>\n",
              "    </tr>\n",
              "    <tr>\n",
              "      <th id=\"T_88e79_level0_row10\" class=\"row_heading level0 row10\" >10</th>\n",
              "      <td id=\"T_88e79_row10_col0\" class=\"data row10 col0\" >i-gpe</td>\n",
              "      <td id=\"T_88e79_row10_col1\" class=\"data row10 col1\" >0.000000</td>\n",
              "      <td id=\"T_88e79_row10_col2\" class=\"data row10 col2\" >0.000000</td>\n",
              "      <td id=\"T_88e79_row10_col3\" class=\"data row10 col3\" >0.000000</td>\n",
              "    </tr>\n",
              "    <tr>\n",
              "      <th id=\"T_88e79_level0_row11\" class=\"row_heading level0 row11\" >11</th>\n",
              "      <td id=\"T_88e79_row11_col0\" class=\"data row11 col0\" >b-nat</td>\n",
              "      <td id=\"T_88e79_row11_col1\" class=\"data row11 col1\" >0.000000</td>\n",
              "      <td id=\"T_88e79_row11_col2\" class=\"data row11 col2\" >0.000000</td>\n",
              "      <td id=\"T_88e79_row11_col3\" class=\"data row11 col3\" >0.000000</td>\n",
              "    </tr>\n",
              "    <tr>\n",
              "      <th id=\"T_88e79_level0_row12\" class=\"row_heading level0 row12\" >12</th>\n",
              "      <td id=\"T_88e79_row12_col0\" class=\"data row12 col0\" >o</td>\n",
              "      <td id=\"T_88e79_row12_col1\" class=\"data row12 col1\" >0.988744</td>\n",
              "      <td id=\"T_88e79_row12_col2\" class=\"data row12 col2\" >0.988787</td>\n",
              "      <td id=\"T_88e79_row12_col3\" class=\"data row12 col3\" >0.000043</td>\n",
              "    </tr>\n",
              "    <tr>\n",
              "      <th id=\"T_88e79_level0_row13\" class=\"row_heading level0 row13\" >13</th>\n",
              "      <td id=\"T_88e79_row13_col0\" class=\"data row13 col0\" >i-per</td>\n",
              "      <td id=\"T_88e79_row13_col1\" class=\"data row13 col1\" >0.815707</td>\n",
              "      <td id=\"T_88e79_row13_col2\" class=\"data row13 col2\" >0.884354</td>\n",
              "      <td id=\"T_88e79_row13_col3\" class=\"data row13 col3\" >0.068647</td>\n",
              "    </tr>\n",
              "    <tr>\n",
              "      <th id=\"T_88e79_level0_row14\" class=\"row_heading level0 row14\" >14</th>\n",
              "      <td id=\"T_88e79_row14_col0\" class=\"data row14 col0\" >i-eve</td>\n",
              "      <td id=\"T_88e79_row14_col1\" class=\"data row14 col1\" >0.000000</td>\n",
              "      <td id=\"T_88e79_row14_col2\" class=\"data row14 col2\" >0.000000</td>\n",
              "      <td id=\"T_88e79_row14_col3\" class=\"data row14 col3\" >0.000000</td>\n",
              "    </tr>\n",
              "    <tr>\n",
              "      <th id=\"T_88e79_level0_row15\" class=\"row_heading level0 row15\" >15</th>\n",
              "      <td id=\"T_88e79_row15_col0\" class=\"data row15 col0\" >b-art</td>\n",
              "      <td id=\"T_88e79_row15_col1\" class=\"data row15 col1\" >0.000000</td>\n",
              "      <td id=\"T_88e79_row15_col2\" class=\"data row15 col2\" >0.000000</td>\n",
              "      <td id=\"T_88e79_row15_col3\" class=\"data row15 col3\" >0.000000</td>\n",
              "    </tr>\n",
              "    <tr>\n",
              "      <th id=\"T_88e79_level0_row16\" class=\"row_heading level0 row16\" >16</th>\n",
              "      <td id=\"T_88e79_row16_col0\" class=\"data row16 col0\" >b-org</td>\n",
              "      <td id=\"T_88e79_row16_col1\" class=\"data row16 col1\" >0.635424</td>\n",
              "      <td id=\"T_88e79_row16_col2\" class=\"data row16 col2\" >0.622611</td>\n",
              "      <td id=\"T_88e79_row16_col3\" class=\"data row16 col3\" >-0.012812</td>\n",
              "    </tr>\n",
              "    <tr>\n",
              "      <th id=\"T_88e79_level0_row17\" class=\"row_heading level0 row17\" >17</th>\n",
              "      <td id=\"T_88e79_row17_col0\" class=\"data row17 col0\" >b-eve</td>\n",
              "      <td id=\"T_88e79_row17_col1\" class=\"data row17 col1\" >0.000000</td>\n",
              "      <td id=\"T_88e79_row17_col2\" class=\"data row17 col2\" >0.000000</td>\n",
              "      <td id=\"T_88e79_row17_col3\" class=\"data row17 col3\" >0.000000</td>\n",
              "    </tr>\n",
              "    <tr>\n",
              "      <th id=\"T_88e79_level0_row18\" class=\"row_heading level0 row18\" >18</th>\n",
              "      <td id=\"T_88e79_row18_col0\" class=\"data row18 col0\" >b-gpe</td>\n",
              "      <td id=\"T_88e79_row18_col1\" class=\"data row18 col1\" >0.930187</td>\n",
              "      <td id=\"T_88e79_row18_col2\" class=\"data row18 col2\" >0.939901</td>\n",
              "      <td id=\"T_88e79_row18_col3\" class=\"data row18 col3\" >0.009714</td>\n",
              "    </tr>\n",
              "  </tbody>\n",
              "</table>\n"
            ],
            "text/plain": [
              "<pandas.io.formats.style.Styler at 0x7fac0948e700>"
            ]
          },
          "execution_count": 55,
          "metadata": {},
          "output_type": "execute_result"
        }
      ],
      "source": [
        "pd.DataFrame({\n",
        "      'Tag': df_test_results.Tag\n",
        "    , 'Validation Accuracy': df_valid_results.Accuracy\n",
        "    , 'Test Accuracy': df_test_results.Accuracy\n",
        "    , 'Test Accuracy Change': df_test_results.Accuracy - df_valid_results.Accuracy\n",
        "}).style.background_gradient(\n",
        "      cmap = 'RdBu'\n",
        "    , vmin = 0\n",
        "    , vmax = 1\n",
        "    , subset = ['Validation Accuracy', 'Test Accuracy']\n",
        ").background_gradient(\n",
        "      cmap = 'RdBu'\n",
        "    , vmin = -0.05\n",
        "    , vmax = 0.05\n",
        "    , subset = ['Test Accuracy Change']\n",
        ")"
      ]
    }
  ],
  "metadata": {
    "accelerator": "GPU",
    "colab": {
      "provenance": []
    },
    "gpuClass": "standard",
    "kernelspec": {
      "display_name": "Python 3",
      "name": "python3"
    },
    "language_info": {
      "name": "python"
    }
  },
  "nbformat": 4,
  "nbformat_minor": 0
}
